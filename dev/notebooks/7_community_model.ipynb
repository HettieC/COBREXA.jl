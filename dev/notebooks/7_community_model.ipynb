{
 "cells": [
  {
   "cell_type": "markdown",
   "source": [
    "# Building and analysing a small community model"
   ],
   "metadata": {}
  },
  {
   "cell_type": "markdown",
   "source": [
    "Here we will use `COBREXA` to build and analyze a small community model\n",
    "consisting of three *E. coli* mutants using the `CoreModel`. We will use an\n",
    "objective function that enforces equal growth rates."
   ],
   "metadata": {}
  },
  {
   "cell_type": "markdown",
   "source": [
    "We will first construct a community of only two mutants to illustrate the\n",
    "effect of the community biomass objective function. Then we will add a third\n",
    "member that has a lethal knockout. Due to the bounds on the exchange reactions\n",
    "these three models are incapable of sharing resources - hence the maximum\n",
    "growth rate will be zero. By changing the bounds we can allow resource sharing,\n",
    "\"saving\" the community."
   ],
   "metadata": {}
  },
  {
   "cell_type": "markdown",
   "source": [
    "## Load the base model"
   ],
   "metadata": {}
  },
  {
   "outputs": [],
   "cell_type": "code",
   "source": [
    "!isfile(\"e_coli_core.json\") &&\n",
    "    download(\"http://bigg.ucsd.edu/static/models/e_coli_core.json\", \"e_coli_core.json\");\n",
    "\n",
    "using COBREXA\n",
    "using Tulip"
   ],
   "metadata": {},
   "execution_count": 1
  },
  {
   "cell_type": "markdown",
   "source": [
    "## Load the models and inspect fba solutions"
   ],
   "metadata": {}
  },
  {
   "outputs": [
    {
     "output_type": "execute_result",
     "data": {
      "text/plain": "0.21166294865467686"
     },
     "metadata": {},
     "execution_count": 2
    }
   ],
   "cell_type": "code",
   "source": [
    "base_model = load_model(CoreModel, \"e_coli_core.json\") # base from from which the knockouts will be constructed\n",
    "\n",
    "cytbd_knockout_model = remove_reactions(base_model, \"CYTBD\") # knockout the CYTBD (cytochrome oxidase) reaction\n",
    "sol = flux_balance_analysis_dict(cytbd_knockout_model, Tulip.Optimizer)\n",
    "sol[\"BIOMASS_Ecoli_core_w_GAM\"] # Cytochrome oxidase knockout μ (growth rate)"
   ],
   "metadata": {},
   "execution_count": 2
  },
  {
   "outputs": [
    {
     "output_type": "execute_result",
     "data": {
      "text/plain": "0.37422987390664064"
     },
     "metadata": {},
     "execution_count": 3
    }
   ],
   "cell_type": "code",
   "source": [
    "atps4r_knockout_model = remove_reactions(base_model, \"ATPS4r\") # knockout the ATP synthase reaction\n",
    "sol = flux_balance_analysis_dict(atps4r_knockout_model, Tulip.Optimizer)\n",
    "sol[\"BIOMASS_Ecoli_core_w_GAM\"] # ATP synthase knockout μ"
   ],
   "metadata": {},
   "execution_count": 3
  },
  {
   "outputs": [
    {
     "output_type": "execute_result",
     "data": {
      "text/plain": "9.548564285305505e-16"
     },
     "metadata": {},
     "execution_count": 4
    }
   ],
   "cell_type": "code",
   "source": [
    "eno_knockout_model = remove_reactions(base_model, \"ENO\") # knockout the enolase reaction\n",
    "sol = flux_balance_analysis_dict(eno_knockout_model, Tulip.Optimizer)\n",
    "sol[\"BIOMASS_Ecoli_core_w_GAM\"] # Enolase knockout μ, cannot grow by itself"
   ],
   "metadata": {},
   "execution_count": 4
  },
  {
   "cell_type": "markdown",
   "source": [
    "## Build a community model of the cytochrome oxidase knockout and the ATP synthase knockout models"
   ],
   "metadata": {}
  },
  {
   "outputs": [
    {
     "output_type": "execute_result",
     "data": {
      "text/plain": "20×2 Matrix{String}:\n \"EX_ac_e\"      \"ac_e\"\n \"EX_acald_e\"   \"acald_e\"\n \"EX_akg_e\"     \"akg_e\"\n \"EX_co2_e\"     \"co2_e\"\n \"EX_etoh_e\"    \"etoh_e\"\n \"EX_for_e\"     \"for_e\"\n \"EX_fru_e\"     \"fru_e\"\n \"EX_fum_e\"     \"fum_e\"\n \"EX_glc__D_e\"  \"glc__D_e\"\n \"EX_gln__L_e\"  \"gln__L_e\"\n \"EX_glu__L_e\"  \"glu__L_e\"\n \"EX_h_e\"       \"h_e\"\n \"EX_h2o_e\"     \"h2o_e\"\n \"EX_lac__D_e\"  \"lac__D_e\"\n \"EX_mal__L_e\"  \"mal__L_e\"\n \"EX_nh4_e\"     \"nh4_e\"\n \"EX_o2_e\"      \"o2_e\"\n \"EX_pi_e\"      \"pi_e\"\n \"EX_pyr_e\"     \"pyr_e\"\n \"EX_succ_e\"    \"succ_e\""
     },
     "metadata": {},
     "execution_count": 5
    }
   ],
   "cell_type": "code",
   "source": [
    "ex_rxns = filter(looks_like_exchange_reaction, reactions(base_model)) # identify exchange reactions heuristically\n",
    "ex_mets = [first(keys(reaction_stoichiometry(base_model, ex_rxn))) for ex_rxn in ex_rxns] # identify exchange metabolites IN THE SAME ORDER as ex_rxns\n",
    "[ex_rxns ex_mets]"
   ],
   "metadata": {},
   "execution_count": 5
  },
  {
   "outputs": [
    {
     "output_type": "execute_result",
     "data": {
      "text/plain": "Metabolic model of type CoreModel\n\n⡀⣄⢠⣤⣼⢠⣄⡀⠀⠘⣄⠀⡄⣌⣿⡦⣄⡀⠀⠀⠀⠀⠀⠀⠀⠀⠀⠀⠀⠀⠀⠀⠀⠀⠀⠀⠀⠀⠀⠀\n⠀⠤⠈⠀⢤⠀⠃⡄⠀⠀⠐⠀⠀⢢⣤⣬⢷⣤⠀⠀⠀⠀⠀⠀⠀⠀⠀⠀⠀⠀⠀⠀⠀⠀⠀⠀⠀⠀⠀⠀\n⠘⣐⢠⣤⣰⠠⠆⡀⠀⠀⠀⠃⡠⢨⡀⡀⠠⠘⠀⠀⠀⠀⠀⠀⠀⠀⠀⠀⠀⠀⠀⠀⠀⠀⠀⠀⠀⠀⠀⠀\n⠁⣈⡁⡉⠸⠤⠰⣠⡀⠀⠀⠑⠸⠈⠀⠄⠉⠎⠀⠀⠀⠀⠀⠀⠀⠀⠀⠀⠀⠀⠀⠀⠀⠀⠀⠀⠀⠀⠀⠀\n⣁⡁⡥⣀⣏⠜⠐⡢⠁⠀⠀⠐⠐⠀⣀⢐⠁⠈⠀⠀⠀⠀⠀⠀⠀⠀⠀⠀⠀⠀⠀⠀⠀⠀⠀⠀⠀⠀⠀⠀\n⠍⢅⠑⠋⢯⠲⢀⣅⢜⠀⠀⠀⠄⠀⠁⠒⠔⠰⠀⠀⠀⠀⠀⠀⠀⠀⠀⠀⠀⠀⠀⠀⠀⠀⠀⠀⠀⠀⠀⠀\n⢉⠀⠀⠀⢨⠀⠠⠭⠄⠢⠀⠀⠿⢤⠀⠀⠀⠀⠀⠀⠀⠀⡀⠀⠀⠀⠀⢀⠀⠀⠀⢀⣀⠀⠀⠀⠀⠀⠀⠀\n⠀⠀⠀⠀⠀⠀⠀⠀⠀⠀⠀⠀⠀⠀⠀⠀⠀⠀⠴⠤⢶⠴⠧⢶⠦⠄⠀⠘⠄⠀⠆⠮⠿⣶⠆⠄⠀⠀⠀⠀\n⠀⠀⠀⠀⠀⠀⠀⠀⠀⠀⠀⠀⠀⠀⠀⠀⠀⠀⢀⠒⠀⠐⠆⢈⠀⠆⠀⠀⢈⠀⠀⢷⠶⠖⠻⣖⠀⠀⠀⠀\n⠀⠀⠀⠀⠀⠀⠀⠀⠀⠀⠀⠀⠀⠀⠀⠀⠀⠀⡨⢡⡦⣲⣇⠂⠣⠀⠀⠀⠀⡁⢔⢴⠄⢄⢂⢈⠀⠀⠀⠀\n⠀⠀⠀⠀⠀⠀⠀⠀⠀⠀⠀⠀⠀⠀⠀⠀⠀⠀⡀⣤⠀⠄⡊⡚⠘⠴⡄⠀⠀⠁⠘⠀⠀⠂⡀⢃⠀⠀⠀⠀\n⠀⠀⠀⠀⠀⠀⠀⠀⠀⠀⠀⠀⠀⠀⠀⠀⠀⠀⣤⡄⣶⣬⡆⠊⢩⠐⡀⠀⠀⠈⠈⢠⡤⠌⠀⠀⠀⠀⠀⠀\n⠀⠀⠀⠀⠀⠀⠀⠀⠀⠀⠀⠀⠀⠀⠀⠀⠀⠀⡂⠢⠉⠙⡎⠃⠰⣴⠨⠀⠀⢐⣀⠀⠀⠁⠊⠘⠀⠀⠀⠀\n⠀⠀⠀⠀⠀⠀⠀⠀⢄⠀⠀⠀⠀⠀⠀⠀⠀⠀⠄⠀⠀⠀⠆⠀⠐⠒⣄⠃⠀⠐⠙⠶⠀⠀⠀⠠⣄⠀⠀⠀\n⠀⠀⠀⠀⠀⠀⠀⠀⠈⠑⢄⠀⠀⠀⠀⠀⠀⠀⠀⠀⠀⠀⠀⠀⠀⠀⠈⠳⣄⠀⠀⠀⠀⠀⠀⠀⠈⠳⣄⠀\n⠀⠀⠀⠀⠠⠀⠀⠀⠀⠀⠀⠑⠀⠀⠀⠀⠀⠀⠀⠀⠀⠀⠄⠀⠀⠀⠀⠀⠈⠓⠀⠀⠀⠀⠀⠀⠀⠀⠈⠓\nNumber of reactions: 209\nNumber of metabolites: 166\n"
     },
     "metadata": {},
     "execution_count": 6
    }
   ],
   "cell_type": "code",
   "source": [
    "model_names = [\"cytbd_ko\", \"atps4r_ko\"]\n",
    "community_model = join_with_exchanges(\n",
    "    [cytbd_knockout_model, atps4r_knockout_model],\n",
    "    ex_rxns,\n",
    "    ex_mets;\n",
    "    add_biomass_objective = true,\n",
    "    biomass_ids = [\"BIOMASS_Ecoli_core_w_GAM\", \"BIOMASS_Ecoli_core_w_GAM\"],\n",
    "    model_names = model_names,\n",
    ")"
   ],
   "metadata": {},
   "execution_count": 6
  },
  {
   "cell_type": "markdown",
   "source": [
    "## Set exchange reaction bounds of community model based on the bounds of the individual models"
   ],
   "metadata": {}
  },
  {
   "outputs": [
    {
     "output_type": "execute_result",
     "data": {
      "text/plain": "20-element Vector{Union{Nothing, Int64}}:\n 43\n 44\n 45\n 46\n 47\n 48\n 49\n 50\n 51\n 52\n 53\n 54\n 55\n 56\n 57\n 58\n 59\n 60\n 61\n 62"
     },
     "metadata": {},
     "execution_count": 7
    }
   ],
   "cell_type": "code",
   "source": [
    "env_ex_rxn_idxs = indexin(ex_rxns, reactions(community_model)) # identify the global (environmental exchange reactions)\n",
    "cytbd_ex_rxn_idxs = indexin(ex_rxns, reactions(cytbd_knockout_model)) # identify the indices of the corresponding exchange reactions in the original models\n",
    "atps4r_ex_rxn_idxs = indexin(ex_rxns, reactions(atps4r_knockout_model))"
   ],
   "metadata": {},
   "execution_count": 7
  },
  {
   "cell_type": "markdown",
   "source": [
    "In case some exchange reactions are not present in both models, set\n",
    "environmental exchange bound to the sum of the individual exchange bounds"
   ],
   "metadata": {}
  },
  {
   "outputs": [],
   "cell_type": "code",
   "source": [
    "for (env_ex, m2_ex, m1_ex) in zip(env_ex_rxn_idxs, cytbd_ex_rxn_idxs, atps4r_ex_rxn_idxs)\n",
    "    m2lb = isnothing(m2_ex) ? 0.0 : atps4r_knockout_model.xl[m2_ex]\n",
    "    m2ub = isnothing(m2_ex) ? 0.0 : atps4r_knockout_model.xu[m2_ex]\n",
    "    m1lb = isnothing(m1_ex) ? 0.0 : cytbd_knockout_model.xl[m1_ex]\n",
    "    m1ub = isnothing(m1_ex) ? 0.0 : cytbd_knockout_model.xu[m1_ex]\n",
    "    change_bounds!(community_model, [env_ex]; xl = [m1lb + m2lb], xu = [m1ub + m2ub])\n",
    "end"
   ],
   "metadata": {},
   "execution_count": 8
  },
  {
   "cell_type": "markdown",
   "source": [
    "## Add objective function to community model`"
   ],
   "metadata": {}
  },
  {
   "outputs": [],
   "cell_type": "code",
   "source": [
    "biomass_ids = model_names .* \"_BIOMASS_Ecoli_core_w_GAM\"\n",
    "add_objective!(\n",
    "    community_model,\n",
    "    biomass_ids;\n",
    "    objective_column_index = first(\n",
    "        indexin([\"community_biomass\"], reactions(community_model)),\n",
    "    ),\n",
    ")"
   ],
   "metadata": {},
   "execution_count": 9
  },
  {
   "cell_type": "markdown",
   "source": [
    "## Perform community FBA"
   ],
   "metadata": {}
  },
  {
   "outputs": [
    {
     "output_type": "execute_result",
     "data": {
      "text/plain": "0.21166294961691223"
     },
     "metadata": {},
     "execution_count": 10
    }
   ],
   "cell_type": "code",
   "source": [
    "d = flux_balance_analysis_dict(\n",
    "    community_model,\n",
    "    Tulip.Optimizer;\n",
    "    modifications = [change_optimizer_attribute(\"IPM_IterationsLimit\", 1000)],\n",
    ")\n",
    "d[\"community_biomass\"] # community μ"
   ],
   "metadata": {},
   "execution_count": 10
  },
  {
   "cell_type": "markdown",
   "source": [
    "Notice, the growth rate is limited to the slowest organism as per the objective function"
   ],
   "metadata": {}
  },
  {
   "cell_type": "markdown",
   "source": [
    "## Add the enolase knockout to the community model"
   ],
   "metadata": {}
  },
  {
   "outputs": [
    {
     "name": "stdout",
     "output_type": "stream",
     "text": [
      "Community μ = 1.6222069161577525e-15\n"
     ]
    }
   ],
   "cell_type": "code",
   "source": [
    "community_model = add_model_with_exchanges(\n",
    "    community_model,\n",
    "    eno_knockout_model,\n",
    "    ex_rxns,\n",
    "    ex_mets;\n",
    "    model_name = \"eno_ko\",\n",
    "    biomass_id = \"BIOMASS_Ecoli_core_w_GAM\",\n",
    ")\n",
    "\n",
    "push!(model_names, \"eno_ko\")\n",
    "biomass_ids = model_names .* \"_BIOMASS_Ecoli_core_w_GAM\"\n",
    "add_objective!(\n",
    "    community_model,\n",
    "    biomass_ids;\n",
    "    objective_column_index = first(\n",
    "        indexin([\"community_biomass\"], reactions(community_model)),\n",
    "    ),\n",
    ")\n",
    "\n",
    "d = flux_balance_analysis_dict(\n",
    "    community_model,\n",
    "    Tulip.Optimizer;\n",
    "    modifications = [change_optimizer_attribute(\"IPM_IterationsLimit\", 1000)],\n",
    ")\n",
    "println(\"Community μ = \", d[\"community_biomass\"])"
   ],
   "metadata": {},
   "execution_count": 11
  },
  {
   "cell_type": "markdown",
   "source": [
    "Notice that the high communal growth rate is 0, due to the enolase knockout.\n",
    "The reason for this behaviour: enolase is a central reaction in glycolysis - without\n",
    "it the organism cannot access the lower glycolysis pathways or the TCA cycle, hence\n",
    "the model predicts no growth for the knockout, and hence no growth for the system since\n",
    "they all have to have the same growth rate."
   ],
   "metadata": {}
  },
  {
   "cell_type": "markdown",
   "source": [
    "## Allow the mutants to rescue each other by sharing pyruvate"
   ],
   "metadata": {}
  },
  {
   "outputs": [
    {
     "output_type": "execute_result",
     "data": {
      "text/plain": "0.23607110796208797"
     },
     "metadata": {},
     "execution_count": 12
    }
   ],
   "cell_type": "code",
   "source": [
    "pyr_exs = model_names .* \"_EX_pyr_e\"\n",
    "change_bounds!(community_model, pyr_exs; xl = fill(-1000.0, 3), xu = fill(1000.0, 3))\n",
    "\n",
    "d = flux_balance_analysis_dict(\n",
    "    community_model,\n",
    "    Tulip.Optimizer;\n",
    "    modifications = [change_optimizer_attribute(\"IPM_IterationsLimit\", 1000)],\n",
    ")\n",
    "d[\"community_biomass\"] # community μ"
   ],
   "metadata": {},
   "execution_count": 12
  },
  {
   "cell_type": "markdown",
   "source": [
    "Notice that the growth rate is now above 0! Nutrient sharing saved the day!"
   ],
   "metadata": {}
  },
  {
   "cell_type": "markdown",
   "source": [
    "---\n",
    "\n",
    "*This notebook was generated using [Literate.jl](https://github.com/fredrikekre/Literate.jl).*"
   ],
   "metadata": {}
  }
 ],
 "nbformat_minor": 3,
 "metadata": {
  "language_info": {
   "file_extension": ".jl",
   "mimetype": "application/julia",
   "name": "julia",
   "version": "1.6.0"
  },
  "kernelspec": {
   "name": "julia-1.6",
   "display_name": "Julia 1.6.0",
   "language": "julia"
  }
 },
 "nbformat": 4
}
