{
 "cells": [
  {
   "cell_type": "markdown",
   "source": [
    "# Finding balance and variability of constraint-based models"
   ],
   "metadata": {}
  },
  {
   "cell_type": "markdown",
   "source": [
    "Here we use `flux_balance_analysis`,\n",
    "`flux_variability_analysis`, and\n",
    "`parsimonious_flux_balance_analysis` of `COBREXA.jl` functions to\n",
    "analyze a toy model of *E. coli*."
   ],
   "metadata": {}
  },
  {
   "cell_type": "markdown",
   "source": [
    "If it is not already present, download the model."
   ],
   "metadata": {}
  },
  {
   "outputs": [
    {
     "output_type": "execute_result",
     "data": {
      "text/plain": "Metabolic model of type SBMLModel\n\n⠀⠈⢀⠀⡀⠀⠀⠀⠀⡠⠂⠀⠀⠀⠀⠈⠀⠄⠀⠀⠀⠀⠀⠀⠀⠀⠀⠠⠀⠀⠀⠀⢀⠐⡀⠀⠀⠀⠀⠄\n⠀⠐⠀⠀⠀⠀⠀⠀⡠⠂⠀⠀⠀⠀⢰⠱⣀⠀⡄⢐⠀⠀⢀⠀⠀⠀⡂⠄⠔⠁⠰⠀⠠⠀⣆⠀⠄⢠⢀⠄\n⠀⠀⠀⠀⠀⠀⠀⠀⠀⠁⠠⠀⠀⠐⠀⠀⠀⠀⠀⠀⢀⠀⠀⠐⠀⠂⠀⠀⠀⠄⠀⠐⠀⢁⠄⠀⠀⠀⠀⠀\n⠀⢀⠀⠐⡈⠀⡀⠀⠂⠀⣀⠀⠑⡈⢀⠀⠀⠀⠀⠀⡀⡠⠀⡀⠰⠁⠈⠂⠁⠀⠠⠀⠀⠂⡂⠀⠂⠂⠀⠀\n⠠⠀⠐⠀⠂⠀⠀⢀⠀⠀⠀⠀⠊⠀⡐⠊⠐⠀⠀⠀⠀⠀⠐⠀⠂⠀⠀⠐⠀⠀⠀⠀⠀⠁⠃⠠⠀⠁⠐⠀\n⠀⠠⠀⡀⠄⠀⠀⠂⠀⠀⠀⠠⠀⠠⠀⠀⠄⠀⠨⠀⠀⠀⠐⠀⠀⠄⢀⠀⠀⠀⠈⠀⠀⠀⠁⠄⠀⠀⠀⠀\n⠀⢐⠐⠀⠄⠀⡂⠀⢐⠀⠀⠀⠀⠂⢀⢀⠐⠂⡀⠈⠀⠀⠀⠂⠀⠈⠀⡀⡐⠀⢄⠀⢀⠀⡆⠀⡀⣀⡀⡐\n⠀⠈⠀⠀⠀⠀⠀⠐⢂⠀⢀⠀⠈⠀⠀⠀⠀⠀⠠⠀⠀⠠⠀⠀⠀⠈⠂⠀⠀⠀⠄⠐⠐⠀⠁⠀⠀⠑⠁⠀\n⠂⠠⠀⠀⠀⠀⠀⠀⠀⢀⠀⠀⠠⠈⠀⠀⠀⠀⠀⠁⠀⠀⠠⠐⠀⠁⠈⠀⠁⢀⠀⠀⠀⠀⠀⠀⠀⠀⠌⠀\n⠀⠀⠂⢨⠀⡀⠀⠐⠁⠐⠀⠐⠊⠀⠀⠀⠀⠀⠀⠀⠀⠀⠢⠒⠈⠐⠐⠁⠂⠀⠀⠀⠄⠓⠕⠂⠃⠁⠀⠐\n⠠⠀⠨⠀⠁⠤⠄⠀⠁⡄⠀⠂⠠⠄⢈⠌⠠⠄⠀⢀⠀⠀⠀⠄⠨⠀⡤⠀⢀⠀⢀⠠⠀⠁⡔⠨⠀⠈⠄⠀\n⠀⢀⢀⣀⠀⡠⡒⢀⢀⣀⠀⢀⣀⡀⢀⠀⢀⠀⡀⠀⡀⠀⠈⣀⠀⢀⣀⠀⡀⠀⢀⠁⢀⣀⣀⡀⡠⡀⡀⣀\n⠀⠄⠀⠀⠀⠀⠀⠀⠀⠂⠁⠀⠀⠀⠀⠀⠀⣠⠀⠀⡀⠀⠀⠀⠀⠀⠀⠀⠈⠀⠀⠀⠀⠀⠀⠐⠀⠀⠀⠀\n⢀⠂⠀⠀⠂⠀⠈⠀⠐⠀⠀⠀⠁⠀⠀⠀⡀⠔⠑⠀⠀⠀⠀⠀⠀⠀⠀⠀⠀⠀⠢⠀⠀⡀⠂⠈⠀⠀⠀⠄\n⠀⠐⠀⠀⡂⠀⠂⠀⠀⠀⠒⠐⠄⠂⠐⠀⠘⡀⠀⠠⡂⠃⠀⠂⠄⠂⠀⠀⠀⠀⡀⠀⡀⠀⡂⠂⠀⠀⢀⠀\nNumber of reactions: 95\nNumber of metabolites: 72\n"
     },
     "metadata": {},
     "execution_count": 1
    }
   ],
   "cell_type": "code",
   "source": [
    "!isfile(\"e_coli_core.xml\") &&\n",
    "    download(\"http://bigg.ucsd.edu/static/models/e_coli_core.xml\", \"e_coli_core.xml\")\n",
    "\n",
    "using COBREXA\n",
    "\n",
    "\n",
    "model = load_model(\"e_coli_core.xml\")"
   ],
   "metadata": {},
   "execution_count": 1
  },
  {
   "cell_type": "markdown",
   "source": [
    "## Optimization solvers in `COBREXA`\n",
    "\n",
    "To actually perform any optimization based analysis we need to load an\n",
    "optimizer. Any [`JuMP.jl`-supported\n",
    "optimizers](https://jump.dev/JuMP.jl/stable/installation/#Supported-solvers)\n",
    "will work. Here, we will use [`Tulip.jl`](https://github.com/ds4dm/Tulip.jl)\n",
    "to optimize linear programs and\n",
    "[`OSQP.jl`](https://osqp.org/docs/get_started/julia.html) to optimize quadratic\n",
    "programs."
   ],
   "metadata": {}
  },
  {
   "outputs": [],
   "cell_type": "code",
   "source": [
    "using Tulip, OSQP"
   ],
   "metadata": {},
   "execution_count": 2
  },
  {
   "cell_type": "markdown",
   "source": [
    "## Flux balance analysis (FBA)\n",
    "\n",
    "Most analysis functions come in several variants that produce different types\n",
    "of output. All of them usually require a model and `JuMP.jl`-compatible\n",
    "optimizer to work in the model.\n",
    "\n",
    "In the case of FBA, you may choose from these variants (here using the\n",
    "`Tulip` optimizer):"
   ],
   "metadata": {}
  },
  {
   "outputs": [
    {
     "output_type": "execute_result",
     "data": {
      "text/plain": "95-element Vector{Float64}:\n  -0.0\n   6.00724956649032\n   7.477381918907127\n  -5.064375360152338\n   0.2234617471432185\n  -3.214895030387032\n   2.504309432010867\n  21.799492758475754\n   4.959985078874371\n   1.496983802869297\n   ⋮\n   3.375438217960911e-7\n  29.175827202685298\n   9.054357964341115e-9\n   4.817965631705414e-8\n   9.959461594581987e-9\n -21.799492758475754\n  -0.0\n  -1.4340676616267298e-9\n   3.214895030387032"
     },
     "metadata": {},
     "execution_count": 3
    }
   ],
   "cell_type": "code",
   "source": [
    "vec_soln = flux_balance_analysis_vec(model, Tulip.Optimizer)"
   ],
   "metadata": {},
   "execution_count": 3
  },
  {
   "outputs": [
    {
     "output_type": "execute_result",
     "data": {
      "text/plain": "Dict{String, Float64} with 95 entries:\n  \"R_EX_fum_e\"    => -0.0\n  \"R_ACONTb\"      => 6.00725\n  \"R_TPI\"         => 7.47738\n  \"R_SUCOAS\"      => -5.06438\n  \"R_GLNS\"        => 0.223462\n  \"R_EX_pi_e\"     => -3.2149\n  \"R_PPC\"         => 2.50431\n  \"R_O2t\"         => 21.7995\n  \"R_G6PDH2r\"     => 4.95999\n  \"R_TALA\"        => 1.49698\n  \"R_PPCK\"        => 5.88317e-8\n  \"R_EX_lac__D_e\" => 2.39394e-9\n  \"R_PGL\"         => 4.95999\n  \"R_H2Ot\"        => -29.1758\n  \"R_GLNabc\"      => -0.0\n  \"R_EX_co2_e\"    => 22.8098\n  \"R_EX_gln__L_e\" => -0.0\n  \"R_EX_nh4_e\"    => -4.76532\n  \"R_MALt2_2\"     => -0.0\n  ⋮               => ⋮"
     },
     "metadata": {},
     "execution_count": 4
    }
   ],
   "cell_type": "code",
   "source": [
    "dict_soln = flux_balance_analysis_dict(model, Tulip.Optimizer)"
   ],
   "metadata": {},
   "execution_count": 4
  },
  {
   "cell_type": "markdown",
   "source": [
    "## Modifications"
   ],
   "metadata": {}
  },
  {
   "cell_type": "markdown",
   "source": [
    "Often it is desirable to add a slight modififaction to the problem before\n",
    "performing analysis, to see e.g. differences of the model behavior caused by\n",
    "the change introduced.\n",
    "\n",
    "`COBREXA.jl` supports several modifications by default, which include\n",
    "changing objective sense, optimizer attributes, flux constraints,\n",
    "optimization objective, reaction and gene knockouts, and others."
   ],
   "metadata": {}
  },
  {
   "outputs": [
    {
     "output_type": "execute_result",
     "data": {
      "text/plain": "Dict{String, Float64} with 95 entries:\n  \"R_EX_fum_e\"    => -0.0\n  \"R_ACONTb\"      => 7.03277\n  \"R_TPI\"         => 8.90908\n  \"R_SUCOAS\"      => -5.8921\n  \"R_GLNS\"        => 0.270339\n  \"R_EX_pi_e\"     => -3.88931\n  \"R_PPC\"         => 3.02966\n  \"R_O2t\"         => 25.7859\n  \"R_G6PDH2r\"     => 6.11782\n  \"R_TALA\"        => 1.85013\n  \"R_PPCK\"        => 5.26409e-10\n  \"R_EX_lac__D_e\" => 4.37341e-12\n  \"R_PGL\"         => 6.11782\n  \"R_H2Ot\"        => -34.7096\n  \"R_GLNabc\"      => -0.0\n  \"R_EX_co2_e\"    => 27.0082\n  \"R_EX_gln__L_e\" => -0.0\n  \"R_EX_nh4_e\"    => -5.76498\n  \"R_MALt2_2\"     => -0.0\n  ⋮               => ⋮"
     },
     "metadata": {},
     "execution_count": 5
    }
   ],
   "cell_type": "code",
   "source": [
    "dict_soln = flux_balance_analysis_dict(\n",
    "    model,\n",
    "    OSQP.Optimizer;\n",
    "    modifications = [ # modifications are applied in order\n",
    "        # this changes the objective to maximize the biomass production\n",
    "        change_objective(\"R_BIOMASS_Ecoli_core_w_GAM\"),\n",
    "\n",
    "        # this fixes a specific rate of the glucose exchange\n",
    "        change_constraint(\"R_EX_glc__D_e\", -12, -12),\n",
    "\n",
    "        # this knocks out two genes, i.e. constrains their associated reactions to zero.\n",
    "        knockout([\"b0978\", \"b0734\"]), ## the gene IDs are cytochrome oxidase (CYTBD)\n",
    "\n",
    "        # ignore the optimizer specified above and change it to Tulip\n",
    "        change_optimizer(Tulip.Optimizer),\n",
    "\n",
    "        # set a custom attribute of the Tulip optimizer (see Tulip docs for more possibilities)\n",
    "        change_optimizer_attribute(\"IPM_IterationsLimit\", 110),\n",
    "\n",
    "        # explicitly tell the optimizer to maximize the new objective\n",
    "        change_sense(MAX_SENSE),\n",
    "    ],\n",
    ")"
   ],
   "metadata": {},
   "execution_count": 5
  },
  {
   "cell_type": "markdown",
   "source": [
    "## Flux variability analysis (FVA)"
   ],
   "metadata": {}
  },
  {
   "cell_type": "markdown",
   "source": [
    "The default FVA in `flux_variability_analysis` returns maximized and\n",
    "minimized reaction fluxes in a matrix. Here we use the dictionary variant in\n",
    "flux_variability_analysis_dict, to show how to easily access specific fluxes\n",
    "from its results."
   ],
   "metadata": {}
  },
  {
   "outputs": [
    {
     "output_type": "execute_result",
     "data": {
      "text/plain": "(Dict(\"R_EX_fum_e\" => Dict(\"R_EX_fum_e\" => -0.0, \"R_ACONTb\" => 0.23975681246428646, \"R_TPI\" => 9.758987664410151, \"R_SUCOAS\" => -0.0032176953711697304, \"R_GLNS\" => 0.060200571606221165, \"R_EX_pi_e\" => -0.7710723486676665, \"R_PPC\" => 0.648511462789616, \"R_O2t\" => 4.7620907185810674e-17, \"R_G6PDH2r\" => 0.09755599563531388, \"R_TALA\" => -0.004979593188388901…), \"R_ACONTb\" => Dict(\"R_EX_fum_e\" => -0.0, \"R_ACONTb\" => 0.22607952399025047, \"R_TPI\" => 9.751315002264594, \"R_SUCOAS\" => -5.7476116849648756e-11, \"R_GLNS\" => 0.062181345572819555, \"R_EX_pi_e\" => -0.7708580440964182, \"R_PPC\" => 0.6578793157880826, \"R_O2t\" => 9.410658208197004e-15, \"R_G6PDH2r\" => 0.1207478223560313, \"R_TALA\" => 0.002761437630187624…), \"R_TPI\" => Dict(\"R_EX_fum_e\" => -0.0, \"R_ACONTb\" => 0.22607952434490422, \"R_TPI\" => 9.485804104911805, \"R_SUCOAS\" => -8.335641656995056e-11, \"R_GLNS\" => 0.053580994933664666, \"R_EX_pi_e\" => -0.7708580445468374, \"R_PPC\" => 0.6004759354089005, \"R_O2t\" => 5.507347171694764e-15, \"R_G6PDH2r\" => 0.9172805135279788, \"R_TALA\" => 0.2682723346211751…), \"R_SUCOAS\" => Dict(\"R_EX_fum_e\" => -0.0, \"R_ACONTb\" => 0.2955704771566707, \"R_TPI\" => 9.791564276285534, \"R_SUCOAS\" => -0.06949095362639839, \"R_GLNS\" => 0.05358099381935753, \"R_EX_pi_e\" => -0.7708580432289044, \"R_PPC\" => 0.6699668853183516, \"R_O2t\" => 3.13394692633907e-15, \"R_G6PDH2r\" => 9.897941427456658e-10, \"R_TALA\" => -0.03748783611687239…), \"R_GLNS\" => Dict(\"R_EX_fum_e\" => -0.0, \"R_ACONTb\" => 0.2406424227465452, \"R_TPI\" => 9.757081490883413, \"R_SUCOAS\" => -0.0034442967413112913, \"R_GLNS\" => 0.05358099373941643, \"R_EX_pi_e\" => -0.7708580432437482, \"R_PPC\" => 0.6515935275838877, \"R_O2t\" => 2.1426954824772113e-16, \"R_G6PDH2r\" => 0.10344835719616492, \"R_TALA\" => -0.0030050507146060132…), \"R_EX_pi_e\" => Dict(\"R_EX_fum_e\" => -0.0, \"R_ACONTb\" => 0.22836315673274257, \"R_TPI\" => 9.78945886346248, \"R_SUCOAS\" => -7.227000020845847e-11, \"R_GLNS\" => 0.05412221657627899, \"R_EX_pi_e\" => -0.7786444930367454, \"R_PPC\" => 0.6065413498231926, \"R_O2t\" => 4.51046301140303e-15, \"R_G6PDH2r\" => 1.4292033457498604e-9, \"R_TALA\" => -0.03786650122403871…), \"R_PPC\" => Dict(\"R_EX_fum_e\" => -0.0, \"R_ACONTb\" => 0.24854826185014645, \"R_TPI\" => 9.758144304106896, \"R_SUCOAS\" => -1.7527365950313536e-13, \"R_GLNS\" => 0.060711429288066124, \"R_EX_pi_e\" => -0.7708580432063145, \"R_PPC\" => 0.6004759313481499, \"R_O2t\" => 1.0676969754863362e-16, \"R_G6PDH2r\" => 0.10025991755604913, \"R_TALA\" => -0.004067863926160701…), \"R_O2t\" => Dict(\"R_EX_fum_e\" => -0.0, \"R_ACONTb\" => 0.2397547670699771, \"R_TPI\" => 9.758984098152247, \"R_SUCOAS\" => -0.003217059763568135, \"R_GLNS\" => 0.06020007476474629, \"R_EX_pi_e\" => -0.7710723341748742, \"R_PPC\" => 0.6485122957709831, \"R_O2t\" => 4.9009916436786396e-17, \"R_G6PDH2r\" => 0.09756670616534588, \"R_TALA\" => -0.004976022306907555…), \"R_G6PDH2r\" => Dict(\"R_EX_fum_e\" => -0.0, \"R_ACONTb\" => 0.2413098384035294, \"R_TPI\" => 9.791500043356482, \"R_SUCOAS\" => -0.003585425307283908, \"R_GLNS\" => 0.06121279515312429, \"R_EX_pi_e\" => -0.7710955971575917, \"R_PPC\" => 0.6545319804571721, \"R_O2t\" => 2.1562429801722262e-16, \"R_G6PDH2r\" => 9.283567622367387e-12, \"R_TALA\" => -0.03749938900160984…), \"R_TALA\" => Dict(\"R_EX_fum_e\" => -0.0, \"R_ACONTb\" => 0.22836318744798303, \"R_TPI\" => 9.789458867641589, \"R_SUCOAS\" => -8.182422356774574e-9, \"R_GLNS\" => 0.054122216635179424, \"R_EX_pi_e\" => -0.7786444672236877, \"R_PPC\" => 0.6065415024301886, \"R_O2t\" => 4.108918888876329e-14, \"R_G6PDH2r\" => 9.828550567579093e-9, \"R_TALA\" => -0.03786649716846829…)…), Dict(\"R_EX_fum_e\" => Dict(\"R_EX_fum_e\" => -0.0, \"R_ACONTb\" => 0.23975681246428646, \"R_TPI\" => 9.758987664410151, \"R_SUCOAS\" => -0.0032176953711697304, \"R_GLNS\" => 0.060200571606221165, \"R_EX_pi_e\" => -0.7710723486676665, \"R_PPC\" => 0.648511462789616, \"R_O2t\" => 4.7620907185810674e-17, \"R_G6PDH2r\" => 0.09755599563531388, \"R_TALA\" => -0.004979593188388901…), \"R_ACONTb\" => Dict(\"R_EX_fum_e\" => -0.0, \"R_ACONTb\" => 0.29557047721986357, \"R_TPI\" => 9.791564276452807, \"R_SUCOAS\" => -0.06949095088677924, \"R_GLNS\" => 0.053580993802476364, \"R_EX_pi_e\" => -0.7708580432014581, \"R_PPC\" => 0.669966885055626, \"R_O2t\" => 5.4867723002985896e-15, \"R_G6PDH2r\" => 5.200538446278462e-10, \"R_TALA\" => -0.0374878362714213…), \"R_TPI\" => Dict(\"R_EX_fum_e\" => -0.0, \"R_ACONTb\" => 0.24177376951630916, \"R_TPI\" => 9.791564276596803, \"R_SUCOAS\" => -0.0037135796370060203, \"R_GLNS\" => 0.06144138338428863, \"R_EX_pi_e\" => -0.7708580432384102, \"R_PPC\" => 0.655928636691913, \"R_O2t\" => 3.503241648282044e-16, \"R_G6PDH2r\" => 6.012119002464294e-11, \"R_TALA\" => -0.0374878364263768…), \"R_SUCOAS\" => Dict(\"R_EX_fum_e\" => -0.0, \"R_ACONTb\" => 0.23694450009958637, \"R_TPI\" => 9.7578541338508, \"R_SUCOAS\" => -4.213751498134161e-12, \"R_GLNS\" => 0.06046918564757093, \"R_EX_pi_e\" => -0.7710794677351324, \"R_PPC\" => 0.6491018708187021, \"R_O2t\" => 2.0203965226776368e-16, \"R_G6PDH2r\" => 0.10095081244472187, \"R_TALA\" => -0.0038483337948307357…), \"R_GLNS\" => Dict(\"R_EX_fum_e\" => -0.0, \"R_ACONTb\" => 0.22607952365569617, \"R_TPI\" => 9.791564276059317, \"R_SUCOAS\" => -5.4673258263777484e-11, \"R_GLNS\" => 0.24468111476697532, \"R_EX_pi_e\" => -0.7708580432075716, \"R_PPC\" => 0.6004759321859329, \"R_O2t\" => 1.2604324269135335e-14, \"R_G6PDH2r\" => 1.6926999040525598e-9, \"R_TALA\" => -0.037487835880989515…), \"R_EX_pi_e\" => Dict(\"R_EX_fum_e\" => -0.0, \"R_ACONTb\" => 0.24017982085639003, \"R_TPI\" => 9.758339902976445, \"R_SUCOAS\" => -0.003337567801679041, \"R_GLNS\" => 0.06044010139704514, \"R_EX_pi_e\" => -0.7708580432135336, \"R_PPC\" => 0.6496831096146779, \"R_O2t\" => 4.733798443891441e-16, \"R_G6PDH2r\" => 0.09967312094148192, \"R_TALA\" => -0.004263462798038352…), \"R_PPC\" => Dict(\"R_EX_fum_e\" => -0.0, \"R_ACONTb\" => 0.22607952347654484, \"R_TPI\" => 9.791564276535054, \"R_SUCOAS\" => -1.2665682284481008e-11, \"R_GLNS\" => 0.05358099376103458, \"R_EX_pi_e\" => -0.7708580432220014, \"R_PPC\" => 0.9826761788036762, \"R_O2t\" => -7.451157181351547e-16, \"R_G6PDH2r\" => 2.4914584091711995e-10, \"R_TALA\" => -0.03748783636345861…), \"R_O2t\" => Dict(\"R_EX_fum_e\" => -0.0, \"R_ACONTb\" => 0.23975885844590922, \"R_TPI\" => 9.758991247095977, \"R_SUCOAS\" => -0.0032183313066518893, \"R_GLNS\" => 0.060201087253185896, \"R_EX_pi_e\" => -0.7710723630386553, \"R_PPC\" => 0.6485106398373328, \"R_O2t\" => 4.6259878518155594e-17, \"R_G6PDH2r\" => 0.09754523592034138, \"R_TALA\" => -0.0049831804589255705…), \"R_G6PDH2r\" => Dict(\"R_EX_fum_e\" => -0.0, \"R_ACONTb\" => 0.22607952341995713, \"R_TPI\" => 9.485804077754599, \"R_SUCOAS\" => -7.70632409774389e-14, \"R_GLNS\" => 0.053580993733477245, \"R_EX_pi_e\" => -0.7708580431955058, \"R_PPC\" => 0.6004759313306891, \"R_O2t\" => 2.491455505240063e-17, \"R_G6PDH2r\" => 0.9172805966214608, \"R_TALA\" => 0.2682723624294833…), \"R_TALA\" => Dict(\"R_EX_fum_e\" => -0.0, \"R_ACONTb\" => 0.2260795234203813, \"R_TPI\" => 9.485804077764492, \"R_SUCOAS\" => -2.2070646706247915e-14, \"R_GLNS\" => 0.05358099373347766, \"R_EX_pi_e\" => -0.7708580431970373, \"R_PPC\" => 0.6004759313313932, \"R_O2t\" => 2.2011253936851523e-18, \"R_G6PDH2r\" => 0.9172805965899173, \"R_TALA\" => 0.2682723624188306…)…))"
     },
     "metadata": {},
     "execution_count": 6
    }
   ],
   "cell_type": "code",
   "source": [
    "fva_mins, fva_maxs = flux_variability_analysis_dict(\n",
    "    model,\n",
    "    Tulip.Optimizer;\n",
    "    bounds = objective_bounds(0.99), # the objective function is allowed to vary by ~1% from the FBA optimum\n",
    "    modifications = [\n",
    "        change_optimizer_attribute(\"IPM_IterationsLimit\", 500),\n",
    "        change_constraint(\"R_EX_glc__D_e\", -10, -10),\n",
    "        change_constraint(\"R_EX_o2_e\", 0.0, 0.0),\n",
    "    ],\n",
    ")"
   ],
   "metadata": {},
   "execution_count": 6
  },
  {
   "outputs": [
    {
     "output_type": "execute_result",
     "data": {
      "text/plain": "8.518549434877563"
     },
     "metadata": {},
     "execution_count": 7
    }
   ],
   "cell_type": "code",
   "source": [
    "fva_maxs[\"R_EX_ac_e\"][\"R_EX_ac_e\"] # get the maximal acetate exchange flux"
   ],
   "metadata": {},
   "execution_count": 7
  },
  {
   "cell_type": "markdown",
   "source": [
    "## Parsimonious flux balance analysis (pFBA)"
   ],
   "metadata": {}
  },
  {
   "cell_type": "markdown",
   "source": [
    "Parsimonious flux balance analysis (here in\n",
    "`parsimonious_flux_balance_analysis` finds a unique flux solution\n",
    "that minimizes the squared sum of fluxes of the system subject, while\n",
    "maintaining the same objective value as the flux balance analysis solution.\n",
    "Since we are optimizing a quadratic objective, we also need to switch to a\n",
    "quadratic optimizer. In this case, OSQP will work. We demonstrate it on the\n",
    "dictionary-returning variant of pFBA,\n",
    "`parsimonious_flux_balance_analysis_dict`:"
   ],
   "metadata": {}
  },
  {
   "outputs": [
    {
     "output_type": "execute_result",
     "data": {
      "text/plain": "Dict{String, Float64} with 95 entries:\n  \"R_EX_fum_e\"    => -0.00740519\n  \"R_ACONTb\"      => 6.50489\n  \"R_TPI\"         => 8.90216\n  \"R_SUCOAS\"      => -5.40139\n  \"R_GLNS\"        => 0.246959\n  \"R_EX_pi_e\"     => -3.85014\n  \"R_PPC\"         => 2.9436\n  \"R_O2t\"         => 25.1755\n  \"R_G6PDH2r\"     => 6.27635\n  \"R_TALA\"        => 1.90489\n  \"R_PPCK\"        => -0.00258038\n  \"R_EX_lac__D_e\" => -0.00523843\n  \"R_PGL\"         => 6.27637\n  \"R_H2Ot\"        => -33.9456\n  \"R_GLNabc\"      => 0.011269\n  \"R_EX_co2_e\"    => 26.4102\n  \"R_EX_gln__L_e\" => -0.0112578\n  \"R_EX_nh4_e\"    => -5.67679\n  \"R_MALt2_2\"     => 0.00661143\n  ⋮               => ⋮"
     },
     "metadata": {},
     "execution_count": 8
    }
   ],
   "cell_type": "code",
   "source": [
    "dict_soln = parsimonious_flux_balance_analysis_dict(\n",
    "    model,\n",
    "    OSQP.Optimizer;\n",
    "    modifications = [\n",
    "        change_optimizer_attribute(\"verbose\", false), # silence the optimizer (OSQP is very verbose by default)\n",
    "        change_constraint(\"R_EX_glc__D_e\", -12, -12),\n",
    "    ],\n",
    ")"
   ],
   "metadata": {},
   "execution_count": 8
  },
  {
   "cell_type": "markdown",
   "source": [
    "The function also has the expectable second variant that returns a vector of\n",
    "solutions, in `parsimonious_flux_balance_analysis_vec`. Here, we\n",
    "utilize it to show how to use different optimizers for finding the optimum\n",
    "and for solving the quadratic problem. That may be preferable if the\n",
    "optimizer qualities differ for the differing tasks. pFBA allows you to\n",
    "specify `qp_modifications` that are applied after the original optimum is\n",
    "found, and before the quadratic part of the problem solving begins."
   ],
   "metadata": {}
  },
  {
   "outputs": [
    {
     "output_type": "execute_result",
     "data": {
      "text/plain": "95-element Vector{Float64}:\n  -0.006231402533094581\n   6.847122967587614\n   8.914435875871503\n  -5.738183656745528\n   0.25363156710733\n  -3.8887743417980833\n   2.977310372502161\n  25.64208341306474\n   6.1991009754149715\n   1.877264043236841\n   ⋮\n  -0.0002197051126034427\n  34.49592944330335\n  -0.0020752886988600542\n  -0.0014018715428246171\n  -0.002009900868927077\n -25.642083259145206\n   0.0161569956400718\n   0.004729690379188246\n   3.8887743479784547"
     },
     "metadata": {},
     "execution_count": 9
    }
   ],
   "cell_type": "code",
   "source": [
    "vec_soln = parsimonious_flux_balance_analysis_vec(\n",
    "    model,\n",
    "    Tulip.Optimizer; # start with Tulip\n",
    "    modifications = [\n",
    "        change_constraint(\"R_EX_glc__D_e\", -12, -12),\n",
    "        change_optimizer_attribute(\"IPM_IterationsLimit\", 500), # we may change Tulip-specific attributes here\n",
    "    ],\n",
    "    qp_modifications = [\n",
    "        change_optimizer(OSQP.Optimizer), # now switch to OSQP (Tulip wouldn't be able to finish the computation)\n",
    "        change_optimizer_attribute(\"verbose\", false), # and silence it.\n",
    "    ],\n",
    ")"
   ],
   "metadata": {},
   "execution_count": 9
  },
  {
   "cell_type": "markdown",
   "source": [
    "---\n",
    "\n",
    "*This notebook was generated using [Literate.jl](https://github.com/fredrikekre/Literate.jl).*"
   ],
   "metadata": {}
  }
 ],
 "nbformat_minor": 3,
 "metadata": {
  "language_info": {
   "file_extension": ".jl",
   "mimetype": "application/julia",
   "name": "julia",
   "version": "1.6.0"
  },
  "kernelspec": {
   "name": "julia-1.6",
   "display_name": "Julia 1.6.0",
   "language": "julia"
  }
 },
 "nbformat": 4
}
